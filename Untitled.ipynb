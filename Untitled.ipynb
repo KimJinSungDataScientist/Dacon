{
 "cells": [
  {
   "cell_type": "code",
   "execution_count": 2,
   "metadata": {},
   "outputs": [],
   "source": [
    "import pandas as pd\n",
    "import matplotlib.pyplot as plt"
   ]
  },
  {
   "cell_type": "code",
   "execution_count": 3,
   "metadata": {},
   "outputs": [],
   "source": [
    "train_data = pd.read_csv(\"open/train_features.csv\")\n",
    "train_label = pd.read_csv(\"open/train_labels.csv\")"
   ]
  },
  {
   "cell_type": "code",
   "execution_count": 4,
   "metadata": {},
   "outputs": [
    {
     "data": {
      "text/html": [
       "<div>\n",
       "<style scoped>\n",
       "    .dataframe tbody tr th:only-of-type {\n",
       "        vertical-align: middle;\n",
       "    }\n",
       "\n",
       "    .dataframe tbody tr th {\n",
       "        vertical-align: top;\n",
       "    }\n",
       "\n",
       "    .dataframe thead th {\n",
       "        text-align: right;\n",
       "    }\n",
       "</style>\n",
       "<table border=\"1\" class=\"dataframe\">\n",
       "  <thead>\n",
       "    <tr style=\"text-align: right;\">\n",
       "      <th></th>\n",
       "      <th>id</th>\n",
       "      <th>time</th>\n",
       "      <th>acc_x</th>\n",
       "      <th>acc_y</th>\n",
       "      <th>acc_z</th>\n",
       "      <th>gy_x</th>\n",
       "      <th>gy_y</th>\n",
       "      <th>gy_z</th>\n",
       "    </tr>\n",
       "  </thead>\n",
       "  <tbody>\n",
       "    <tr>\n",
       "      <th>count</th>\n",
       "      <td>1.875000e+06</td>\n",
       "      <td>1.875000e+06</td>\n",
       "      <td>1.875000e+06</td>\n",
       "      <td>1.875000e+06</td>\n",
       "      <td>1.875000e+06</td>\n",
       "      <td>1.875000e+06</td>\n",
       "      <td>1.875000e+06</td>\n",
       "      <td>1.875000e+06</td>\n",
       "    </tr>\n",
       "    <tr>\n",
       "      <th>mean</th>\n",
       "      <td>1.562000e+03</td>\n",
       "      <td>2.995000e+02</td>\n",
       "      <td>-4.489683e-01</td>\n",
       "      <td>-1.617913e-01</td>\n",
       "      <td>5.571471e-02</td>\n",
       "      <td>-1.307982e+00</td>\n",
       "      <td>-4.337745e-01</td>\n",
       "      <td>8.864100e-01</td>\n",
       "    </tr>\n",
       "    <tr>\n",
       "      <th>std</th>\n",
       "      <td>9.021100e+02</td>\n",
       "      <td>1.732049e+02</td>\n",
       "      <td>7.173082e-01</td>\n",
       "      <td>5.872018e-01</td>\n",
       "      <td>4.724824e-01</td>\n",
       "      <td>6.083228e+01</td>\n",
       "      <td>7.329832e+01</td>\n",
       "      <td>7.063345e+01</td>\n",
       "    </tr>\n",
       "    <tr>\n",
       "      <th>min</th>\n",
       "      <td>0.000000e+00</td>\n",
       "      <td>0.000000e+00</td>\n",
       "      <td>-8.838427e+00</td>\n",
       "      <td>-9.299714e+00</td>\n",
       "      <td>-8.316425e+00</td>\n",
       "      <td>-1.811127e+03</td>\n",
       "      <td>-1.594256e+03</td>\n",
       "      <td>-1.346143e+03</td>\n",
       "    </tr>\n",
       "    <tr>\n",
       "      <th>25%</th>\n",
       "      <td>7.810000e+02</td>\n",
       "      <td>1.497500e+02</td>\n",
       "      <td>-9.625643e-01</td>\n",
       "      <td>-5.163020e-01</td>\n",
       "      <td>-2.123550e-01</td>\n",
       "      <td>-2.048984e+01</td>\n",
       "      <td>-1.865320e+01</td>\n",
       "      <td>-1.546226e+01</td>\n",
       "    </tr>\n",
       "    <tr>\n",
       "      <th>50%</th>\n",
       "      <td>1.562000e+03</td>\n",
       "      <td>2.995000e+02</td>\n",
       "      <td>-6.560482e-01</td>\n",
       "      <td>-2.033985e-01</td>\n",
       "      <td>3.031258e-02</td>\n",
       "      <td>-1.421819e+00</td>\n",
       "      <td>-2.642753e-01</td>\n",
       "      <td>-1.798643e-01</td>\n",
       "    </tr>\n",
       "    <tr>\n",
       "      <th>75%</th>\n",
       "      <td>2.343000e+03</td>\n",
       "      <td>4.492500e+02</td>\n",
       "      <td>-1.701162e-04</td>\n",
       "      <td>1.406493e-01</td>\n",
       "      <td>3.581982e-01</td>\n",
       "      <td>1.572245e+01</td>\n",
       "      <td>1.676328e+01</td>\n",
       "      <td>1.641878e+01</td>\n",
       "    </tr>\n",
       "    <tr>\n",
       "      <th>max</th>\n",
       "      <td>3.124000e+03</td>\n",
       "      <td>5.990000e+02</td>\n",
       "      <td>8.426799e+00</td>\n",
       "      <td>8.484622e+00</td>\n",
       "      <td>6.432668e+00</td>\n",
       "      <td>1.870256e+03</td>\n",
       "      <td>2.111657e+03</td>\n",
       "      <td>1.255849e+03</td>\n",
       "    </tr>\n",
       "  </tbody>\n",
       "</table>\n",
       "</div>"
      ],
      "text/plain": [
       "                 id          time         acc_x         acc_y         acc_z  \\\n",
       "count  1.875000e+06  1.875000e+06  1.875000e+06  1.875000e+06  1.875000e+06   \n",
       "mean   1.562000e+03  2.995000e+02 -4.489683e-01 -1.617913e-01  5.571471e-02   \n",
       "std    9.021100e+02  1.732049e+02  7.173082e-01  5.872018e-01  4.724824e-01   \n",
       "min    0.000000e+00  0.000000e+00 -8.838427e+00 -9.299714e+00 -8.316425e+00   \n",
       "25%    7.810000e+02  1.497500e+02 -9.625643e-01 -5.163020e-01 -2.123550e-01   \n",
       "50%    1.562000e+03  2.995000e+02 -6.560482e-01 -2.033985e-01  3.031258e-02   \n",
       "75%    2.343000e+03  4.492500e+02 -1.701162e-04  1.406493e-01  3.581982e-01   \n",
       "max    3.124000e+03  5.990000e+02  8.426799e+00  8.484622e+00  6.432668e+00   \n",
       "\n",
       "               gy_x          gy_y          gy_z  \n",
       "count  1.875000e+06  1.875000e+06  1.875000e+06  \n",
       "mean  -1.307982e+00 -4.337745e-01  8.864100e-01  \n",
       "std    6.083228e+01  7.329832e+01  7.063345e+01  \n",
       "min   -1.811127e+03 -1.594256e+03 -1.346143e+03  \n",
       "25%   -2.048984e+01 -1.865320e+01 -1.546226e+01  \n",
       "50%   -1.421819e+00 -2.642753e-01 -1.798643e-01  \n",
       "75%    1.572245e+01  1.676328e+01  1.641878e+01  \n",
       "max    1.870256e+03  2.111657e+03  1.255849e+03  "
      ]
     },
     "execution_count": 4,
     "metadata": {},
     "output_type": "execute_result"
    }
   ],
   "source": [
    "train_data.describe()"
   ]
  },
  {
   "cell_type": "code",
   "execution_count": 50,
   "metadata": {},
   "outputs": [],
   "source": [
    "features = train_data.columns.to_list()\n",
    "\n",
    "X_train_data = train_data[features].groupby(\"id\").agg([\"max\",\"min\",\"mean\"])"
   ]
  },
  {
   "cell_type": "code",
   "execution_count": 53,
   "metadata": {},
   "outputs": [
    {
     "data": {
      "text/html": [
       "<div>\n",
       "<style scoped>\n",
       "    .dataframe tbody tr th:only-of-type {\n",
       "        vertical-align: middle;\n",
       "    }\n",
       "\n",
       "    .dataframe tbody tr th {\n",
       "        vertical-align: top;\n",
       "    }\n",
       "\n",
       "    .dataframe thead tr th {\n",
       "        text-align: left;\n",
       "    }\n",
       "\n",
       "    .dataframe thead tr:last-of-type th {\n",
       "        text-align: right;\n",
       "    }\n",
       "</style>\n",
       "<table border=\"1\" class=\"dataframe\">\n",
       "  <thead>\n",
       "    <tr>\n",
       "      <th></th>\n",
       "      <th colspan=\"3\" halign=\"left\">time</th>\n",
       "      <th colspan=\"3\" halign=\"left\">acc_x</th>\n",
       "      <th colspan=\"3\" halign=\"left\">acc_y</th>\n",
       "      <th colspan=\"3\" halign=\"left\">acc_z</th>\n",
       "      <th colspan=\"3\" halign=\"left\">gy_x</th>\n",
       "      <th colspan=\"3\" halign=\"left\">gy_y</th>\n",
       "      <th colspan=\"3\" halign=\"left\">gy_z</th>\n",
       "    </tr>\n",
       "    <tr>\n",
       "      <th></th>\n",
       "      <th>max</th>\n",
       "      <th>min</th>\n",
       "      <th>mean</th>\n",
       "      <th>max</th>\n",
       "      <th>min</th>\n",
       "      <th>mean</th>\n",
       "      <th>max</th>\n",
       "      <th>min</th>\n",
       "      <th>mean</th>\n",
       "      <th>max</th>\n",
       "      <th>...</th>\n",
       "      <th>mean</th>\n",
       "      <th>max</th>\n",
       "      <th>min</th>\n",
       "      <th>mean</th>\n",
       "      <th>max</th>\n",
       "      <th>min</th>\n",
       "      <th>mean</th>\n",
       "      <th>max</th>\n",
       "      <th>min</th>\n",
       "      <th>mean</th>\n",
       "    </tr>\n",
       "    <tr>\n",
       "      <th>id</th>\n",
       "      <th></th>\n",
       "      <th></th>\n",
       "      <th></th>\n",
       "      <th></th>\n",
       "      <th></th>\n",
       "      <th></th>\n",
       "      <th></th>\n",
       "      <th></th>\n",
       "      <th></th>\n",
       "      <th></th>\n",
       "      <th></th>\n",
       "      <th></th>\n",
       "      <th></th>\n",
       "      <th></th>\n",
       "      <th></th>\n",
       "      <th></th>\n",
       "      <th></th>\n",
       "      <th></th>\n",
       "      <th></th>\n",
       "      <th></th>\n",
       "      <th></th>\n",
       "    </tr>\n",
       "  </thead>\n",
       "  <tbody>\n",
       "    <tr>\n",
       "      <th>0</th>\n",
       "      <td>599</td>\n",
       "      <td>0</td>\n",
       "      <td>299.5</td>\n",
       "      <td>1.344268</td>\n",
       "      <td>0.591940</td>\n",
       "      <td>0.931329</td>\n",
       "      <td>0.176871</td>\n",
       "      <td>-0.624113</td>\n",
       "      <td>-0.218471</td>\n",
       "      <td>-0.054876</td>\n",
       "      <td>...</td>\n",
       "      <td>-0.370422</td>\n",
       "      <td>31.644123</td>\n",
       "      <td>-46.254836</td>\n",
       "      <td>-1.865269</td>\n",
       "      <td>69.847244</td>\n",
       "      <td>-85.887677</td>\n",
       "      <td>-3.359506</td>\n",
       "      <td>55.953827</td>\n",
       "      <td>-79.930029</td>\n",
       "      <td>1.182107</td>\n",
       "    </tr>\n",
       "    <tr>\n",
       "      <th>1</th>\n",
       "      <td>599</td>\n",
       "      <td>0</td>\n",
       "      <td>299.5</td>\n",
       "      <td>1.234020</td>\n",
       "      <td>-2.156208</td>\n",
       "      <td>-0.766580</td>\n",
       "      <td>0.700065</td>\n",
       "      <td>-1.295598</td>\n",
       "      <td>-0.317258</td>\n",
       "      <td>0.888661</td>\n",
       "      <td>...</td>\n",
       "      <td>-0.004223</td>\n",
       "      <td>286.624363</td>\n",
       "      <td>-325.328531</td>\n",
       "      <td>11.071600</td>\n",
       "      <td>389.608060</td>\n",
       "      <td>-315.096003</td>\n",
       "      <td>1.740475</td>\n",
       "      <td>340.170199</td>\n",
       "      <td>-270.980823</td>\n",
       "      <td>1.393294</td>\n",
       "    </tr>\n",
       "    <tr>\n",
       "      <th>2</th>\n",
       "      <td>599</td>\n",
       "      <td>0</td>\n",
       "      <td>299.5</td>\n",
       "      <td>1.219836</td>\n",
       "      <td>-1.142847</td>\n",
       "      <td>0.039836</td>\n",
       "      <td>0.650645</td>\n",
       "      <td>-0.690990</td>\n",
       "      <td>-0.082403</td>\n",
       "      <td>1.332992</td>\n",
       "      <td>...</td>\n",
       "      <td>0.626012</td>\n",
       "      <td>73.525082</td>\n",
       "      <td>-164.779067</td>\n",
       "      <td>-8.472951</td>\n",
       "      <td>297.320834</td>\n",
       "      <td>-249.953944</td>\n",
       "      <td>0.597877</td>\n",
       "      <td>55.642836</td>\n",
       "      <td>-44.192071</td>\n",
       "      <td>3.053291</td>\n",
       "    </tr>\n",
       "    <tr>\n",
       "      <th>3</th>\n",
       "      <td>599</td>\n",
       "      <td>0</td>\n",
       "      <td>299.5</td>\n",
       "      <td>-0.622250</td>\n",
       "      <td>-1.417751</td>\n",
       "      <td>-0.887702</td>\n",
       "      <td>0.283721</td>\n",
       "      <td>-0.540827</td>\n",
       "      <td>-0.087668</td>\n",
       "      <td>0.598814</td>\n",
       "      <td>...</td>\n",
       "      <td>0.227357</td>\n",
       "      <td>192.765368</td>\n",
       "      <td>-69.419166</td>\n",
       "      <td>17.744167</td>\n",
       "      <td>159.083788</td>\n",
       "      <td>-82.537304</td>\n",
       "      <td>4.800931</td>\n",
       "      <td>56.456908</td>\n",
       "      <td>-85.600536</td>\n",
       "      <td>-5.869898</td>\n",
       "    </tr>\n",
       "    <tr>\n",
       "      <th>4</th>\n",
       "      <td>599</td>\n",
       "      <td>0</td>\n",
       "      <td>299.5</td>\n",
       "      <td>0.599720</td>\n",
       "      <td>-2.429109</td>\n",
       "      <td>-0.659018</td>\n",
       "      <td>1.724782</td>\n",
       "      <td>-2.055076</td>\n",
       "      <td>-0.337067</td>\n",
       "      <td>2.678034</td>\n",
       "      <td>...</td>\n",
       "      <td>0.202758</td>\n",
       "      <td>613.972600</td>\n",
       "      <td>-769.076518</td>\n",
       "      <td>-4.819638</td>\n",
       "      <td>284.952954</td>\n",
       "      <td>-243.909948</td>\n",
       "      <td>9.651713</td>\n",
       "      <td>221.015193</td>\n",
       "      <td>-270.581913</td>\n",
       "      <td>4.453382</td>\n",
       "    </tr>\n",
       "  </tbody>\n",
       "</table>\n",
       "<p>5 rows × 21 columns</p>\n",
       "</div>"
      ],
      "text/plain": [
       "   time                acc_x                         acc_y            \\\n",
       "    max min   mean       max       min      mean       max       min   \n",
       "id                                                                     \n",
       "0   599   0  299.5  1.344268  0.591940  0.931329  0.176871 -0.624113   \n",
       "1   599   0  299.5  1.234020 -2.156208 -0.766580  0.700065 -1.295598   \n",
       "2   599   0  299.5  1.219836 -1.142847  0.039836  0.650645 -0.690990   \n",
       "3   599   0  299.5 -0.622250 -1.417751 -0.887702  0.283721 -0.540827   \n",
       "4   599   0  299.5  0.599720 -2.429109 -0.659018  1.724782 -2.055076   \n",
       "\n",
       "                 acc_z  ...                  gy_x                         \\\n",
       "        mean       max  ...      mean         max         min       mean   \n",
       "id                      ...                                                \n",
       "0  -0.218471 -0.054876  ... -0.370422   31.644123  -46.254836  -1.865269   \n",
       "1  -0.317258  0.888661  ... -0.004223  286.624363 -325.328531  11.071600   \n",
       "2  -0.082403  1.332992  ...  0.626012   73.525082 -164.779067  -8.472951   \n",
       "3  -0.087668  0.598814  ...  0.227357  192.765368  -69.419166  17.744167   \n",
       "4  -0.337067  2.678034  ...  0.202758  613.972600 -769.076518  -4.819638   \n",
       "\n",
       "          gy_y                              gy_z                        \n",
       "           max         min      mean         max         min      mean  \n",
       "id                                                                      \n",
       "0    69.847244  -85.887677 -3.359506   55.953827  -79.930029  1.182107  \n",
       "1   389.608060 -315.096003  1.740475  340.170199 -270.980823  1.393294  \n",
       "2   297.320834 -249.953944  0.597877   55.642836  -44.192071  3.053291  \n",
       "3   159.083788  -82.537304  4.800931   56.456908  -85.600536 -5.869898  \n",
       "4   284.952954 -243.909948  9.651713  221.015193 -270.581913  4.453382  \n",
       "\n",
       "[5 rows x 21 columns]"
      ]
     },
     "execution_count": 53,
     "metadata": {},
     "output_type": "execute_result"
    }
   ],
   "source": [
    "X_train_data.head()"
   ]
  },
  {
   "cell_type": "code",
   "execution_count": 49,
   "metadata": {
    "scrolled": true
   },
   "outputs": [
    {
     "ename": "KeyError",
     "evalue": "'0'",
     "output_type": "error",
     "traceback": [
      "\u001b[0;31m---------------------------------------------------------------------------\u001b[0m",
      "\u001b[0;31mKeyError\u001b[0m                                  Traceback (most recent call last)",
      "\u001b[0;32m~/opt/anaconda3/lib/python3.8/site-packages/pandas/core/indexes/base.py\u001b[0m in \u001b[0;36mget_loc\u001b[0;34m(self, key, method, tolerance)\u001b[0m\n\u001b[1;32m   3079\u001b[0m             \u001b[0;32mtry\u001b[0m\u001b[0;34m:\u001b[0m\u001b[0;34m\u001b[0m\u001b[0;34m\u001b[0m\u001b[0m\n\u001b[0;32m-> 3080\u001b[0;31m                 \u001b[0;32mreturn\u001b[0m \u001b[0mself\u001b[0m\u001b[0;34m.\u001b[0m\u001b[0m_engine\u001b[0m\u001b[0;34m.\u001b[0m\u001b[0mget_loc\u001b[0m\u001b[0;34m(\u001b[0m\u001b[0mcasted_key\u001b[0m\u001b[0;34m)\u001b[0m\u001b[0;34m\u001b[0m\u001b[0;34m\u001b[0m\u001b[0m\n\u001b[0m\u001b[1;32m   3081\u001b[0m             \u001b[0;32mexcept\u001b[0m \u001b[0mKeyError\u001b[0m \u001b[0;32mas\u001b[0m \u001b[0merr\u001b[0m\u001b[0;34m:\u001b[0m\u001b[0;34m\u001b[0m\u001b[0;34m\u001b[0m\u001b[0m\n",
      "\u001b[0;32mpandas/_libs/index.pyx\u001b[0m in \u001b[0;36mpandas._libs.index.IndexEngine.get_loc\u001b[0;34m()\u001b[0m\n",
      "\u001b[0;32mpandas/_libs/index.pyx\u001b[0m in \u001b[0;36mpandas._libs.index.IndexEngine.get_loc\u001b[0;34m()\u001b[0m\n",
      "\u001b[0;32mpandas/_libs/hashtable_class_helper.pxi\u001b[0m in \u001b[0;36mpandas._libs.hashtable.PyObjectHashTable.get_item\u001b[0;34m()\u001b[0m\n",
      "\u001b[0;32mpandas/_libs/hashtable_class_helper.pxi\u001b[0m in \u001b[0;36mpandas._libs.hashtable.PyObjectHashTable.get_item\u001b[0;34m()\u001b[0m\n",
      "\u001b[0;31mKeyError\u001b[0m: '0'",
      "\nThe above exception was the direct cause of the following exception:\n",
      "\u001b[0;31mKeyError\u001b[0m                                  Traceback (most recent call last)",
      "\u001b[0;32m<ipython-input-49-ed2573f4062f>\u001b[0m in \u001b[0;36m<module>\u001b[0;34m\u001b[0m\n\u001b[0;32m----> 1\u001b[0;31m \u001b[0mX_train_data\u001b[0m\u001b[0;34m[\u001b[0m\u001b[0;34m\"0\"\u001b[0m\u001b[0;34m]\u001b[0m\u001b[0;34m[\u001b[0m\u001b[0;34m'time'\u001b[0m\u001b[0;34m]\u001b[0m\u001b[0;34m\u001b[0m\u001b[0;34m\u001b[0m\u001b[0m\n\u001b[0m",
      "\u001b[0;32m~/opt/anaconda3/lib/python3.8/site-packages/pandas/core/frame.py\u001b[0m in \u001b[0;36m__getitem__\u001b[0;34m(self, key)\u001b[0m\n\u001b[1;32m   3021\u001b[0m         \u001b[0;32mif\u001b[0m \u001b[0mis_single_key\u001b[0m\u001b[0;34m:\u001b[0m\u001b[0;34m\u001b[0m\u001b[0;34m\u001b[0m\u001b[0m\n\u001b[1;32m   3022\u001b[0m             \u001b[0;32mif\u001b[0m \u001b[0mself\u001b[0m\u001b[0;34m.\u001b[0m\u001b[0mcolumns\u001b[0m\u001b[0;34m.\u001b[0m\u001b[0mnlevels\u001b[0m \u001b[0;34m>\u001b[0m \u001b[0;36m1\u001b[0m\u001b[0;34m:\u001b[0m\u001b[0;34m\u001b[0m\u001b[0;34m\u001b[0m\u001b[0m\n\u001b[0;32m-> 3023\u001b[0;31m                 \u001b[0;32mreturn\u001b[0m \u001b[0mself\u001b[0m\u001b[0;34m.\u001b[0m\u001b[0m_getitem_multilevel\u001b[0m\u001b[0;34m(\u001b[0m\u001b[0mkey\u001b[0m\u001b[0;34m)\u001b[0m\u001b[0;34m\u001b[0m\u001b[0;34m\u001b[0m\u001b[0m\n\u001b[0m\u001b[1;32m   3024\u001b[0m             \u001b[0mindexer\u001b[0m \u001b[0;34m=\u001b[0m \u001b[0mself\u001b[0m\u001b[0;34m.\u001b[0m\u001b[0mcolumns\u001b[0m\u001b[0;34m.\u001b[0m\u001b[0mget_loc\u001b[0m\u001b[0;34m(\u001b[0m\u001b[0mkey\u001b[0m\u001b[0;34m)\u001b[0m\u001b[0;34m\u001b[0m\u001b[0;34m\u001b[0m\u001b[0m\n\u001b[1;32m   3025\u001b[0m             \u001b[0;32mif\u001b[0m \u001b[0mis_integer\u001b[0m\u001b[0;34m(\u001b[0m\u001b[0mindexer\u001b[0m\u001b[0;34m)\u001b[0m\u001b[0;34m:\u001b[0m\u001b[0;34m\u001b[0m\u001b[0;34m\u001b[0m\u001b[0m\n",
      "\u001b[0;32m~/opt/anaconda3/lib/python3.8/site-packages/pandas/core/frame.py\u001b[0m in \u001b[0;36m_getitem_multilevel\u001b[0;34m(self, key)\u001b[0m\n\u001b[1;32m   3072\u001b[0m     \u001b[0;32mdef\u001b[0m \u001b[0m_getitem_multilevel\u001b[0m\u001b[0;34m(\u001b[0m\u001b[0mself\u001b[0m\u001b[0;34m,\u001b[0m \u001b[0mkey\u001b[0m\u001b[0;34m)\u001b[0m\u001b[0;34m:\u001b[0m\u001b[0;34m\u001b[0m\u001b[0;34m\u001b[0m\u001b[0m\n\u001b[1;32m   3073\u001b[0m         \u001b[0;31m# self.columns is a MultiIndex\u001b[0m\u001b[0;34m\u001b[0m\u001b[0;34m\u001b[0m\u001b[0;34m\u001b[0m\u001b[0m\n\u001b[0;32m-> 3074\u001b[0;31m         \u001b[0mloc\u001b[0m \u001b[0;34m=\u001b[0m \u001b[0mself\u001b[0m\u001b[0;34m.\u001b[0m\u001b[0mcolumns\u001b[0m\u001b[0;34m.\u001b[0m\u001b[0mget_loc\u001b[0m\u001b[0;34m(\u001b[0m\u001b[0mkey\u001b[0m\u001b[0;34m)\u001b[0m\u001b[0;34m\u001b[0m\u001b[0;34m\u001b[0m\u001b[0m\n\u001b[0m\u001b[1;32m   3075\u001b[0m         \u001b[0;32mif\u001b[0m \u001b[0misinstance\u001b[0m\u001b[0;34m(\u001b[0m\u001b[0mloc\u001b[0m\u001b[0;34m,\u001b[0m \u001b[0;34m(\u001b[0m\u001b[0mslice\u001b[0m\u001b[0;34m,\u001b[0m \u001b[0mnp\u001b[0m\u001b[0;34m.\u001b[0m\u001b[0mndarray\u001b[0m\u001b[0;34m)\u001b[0m\u001b[0;34m)\u001b[0m\u001b[0;34m:\u001b[0m\u001b[0;34m\u001b[0m\u001b[0;34m\u001b[0m\u001b[0m\n\u001b[1;32m   3076\u001b[0m             \u001b[0mnew_columns\u001b[0m \u001b[0;34m=\u001b[0m \u001b[0mself\u001b[0m\u001b[0;34m.\u001b[0m\u001b[0mcolumns\u001b[0m\u001b[0;34m[\u001b[0m\u001b[0mloc\u001b[0m\u001b[0;34m]\u001b[0m\u001b[0;34m\u001b[0m\u001b[0;34m\u001b[0m\u001b[0m\n",
      "\u001b[0;32m~/opt/anaconda3/lib/python3.8/site-packages/pandas/core/indexes/multi.py\u001b[0m in \u001b[0;36mget_loc\u001b[0;34m(self, key, method)\u001b[0m\n\u001b[1;32m   2872\u001b[0m \u001b[0;34m\u001b[0m\u001b[0m\n\u001b[1;32m   2873\u001b[0m         \u001b[0;32mif\u001b[0m \u001b[0;32mnot\u001b[0m \u001b[0misinstance\u001b[0m\u001b[0;34m(\u001b[0m\u001b[0mkey\u001b[0m\u001b[0;34m,\u001b[0m \u001b[0mtuple\u001b[0m\u001b[0;34m)\u001b[0m\u001b[0;34m:\u001b[0m\u001b[0;34m\u001b[0m\u001b[0;34m\u001b[0m\u001b[0m\n\u001b[0;32m-> 2874\u001b[0;31m             \u001b[0mloc\u001b[0m \u001b[0;34m=\u001b[0m \u001b[0mself\u001b[0m\u001b[0;34m.\u001b[0m\u001b[0m_get_level_indexer\u001b[0m\u001b[0;34m(\u001b[0m\u001b[0mkey\u001b[0m\u001b[0;34m,\u001b[0m \u001b[0mlevel\u001b[0m\u001b[0;34m=\u001b[0m\u001b[0;36m0\u001b[0m\u001b[0;34m)\u001b[0m\u001b[0;34m\u001b[0m\u001b[0;34m\u001b[0m\u001b[0m\n\u001b[0m\u001b[1;32m   2875\u001b[0m             \u001b[0;32mreturn\u001b[0m \u001b[0m_maybe_to_slice\u001b[0m\u001b[0;34m(\u001b[0m\u001b[0mloc\u001b[0m\u001b[0;34m)\u001b[0m\u001b[0;34m\u001b[0m\u001b[0;34m\u001b[0m\u001b[0m\n\u001b[1;32m   2876\u001b[0m \u001b[0;34m\u001b[0m\u001b[0m\n",
      "\u001b[0;32m~/opt/anaconda3/lib/python3.8/site-packages/pandas/core/indexes/multi.py\u001b[0m in \u001b[0;36m_get_level_indexer\u001b[0;34m(self, key, level, indexer)\u001b[0m\n\u001b[1;32m   3154\u001b[0m         \u001b[0;32melse\u001b[0m\u001b[0;34m:\u001b[0m\u001b[0;34m\u001b[0m\u001b[0;34m\u001b[0m\u001b[0m\n\u001b[1;32m   3155\u001b[0m \u001b[0;34m\u001b[0m\u001b[0m\n\u001b[0;32m-> 3156\u001b[0;31m             \u001b[0midx\u001b[0m \u001b[0;34m=\u001b[0m \u001b[0mself\u001b[0m\u001b[0;34m.\u001b[0m\u001b[0m_get_loc_single_level_index\u001b[0m\u001b[0;34m(\u001b[0m\u001b[0mlevel_index\u001b[0m\u001b[0;34m,\u001b[0m \u001b[0mkey\u001b[0m\u001b[0;34m)\u001b[0m\u001b[0;34m\u001b[0m\u001b[0;34m\u001b[0m\u001b[0m\n\u001b[0m\u001b[1;32m   3157\u001b[0m \u001b[0;34m\u001b[0m\u001b[0m\n\u001b[1;32m   3158\u001b[0m             \u001b[0;32mif\u001b[0m \u001b[0mlevel\u001b[0m \u001b[0;34m>\u001b[0m \u001b[0;36m0\u001b[0m \u001b[0;32mor\u001b[0m \u001b[0mself\u001b[0m\u001b[0;34m.\u001b[0m\u001b[0mlexsort_depth\u001b[0m \u001b[0;34m==\u001b[0m \u001b[0;36m0\u001b[0m\u001b[0;34m:\u001b[0m\u001b[0;34m\u001b[0m\u001b[0;34m\u001b[0m\u001b[0m\n",
      "\u001b[0;32m~/opt/anaconda3/lib/python3.8/site-packages/pandas/core/indexes/multi.py\u001b[0m in \u001b[0;36m_get_loc_single_level_index\u001b[0;34m(self, level_index, key)\u001b[0m\n\u001b[1;32m   2805\u001b[0m             \u001b[0;32mreturn\u001b[0m \u001b[0;34m-\u001b[0m\u001b[0;36m1\u001b[0m\u001b[0;34m\u001b[0m\u001b[0;34m\u001b[0m\u001b[0m\n\u001b[1;32m   2806\u001b[0m         \u001b[0;32melse\u001b[0m\u001b[0;34m:\u001b[0m\u001b[0;34m\u001b[0m\u001b[0;34m\u001b[0m\u001b[0m\n\u001b[0;32m-> 2807\u001b[0;31m             \u001b[0;32mreturn\u001b[0m \u001b[0mlevel_index\u001b[0m\u001b[0;34m.\u001b[0m\u001b[0mget_loc\u001b[0m\u001b[0;34m(\u001b[0m\u001b[0mkey\u001b[0m\u001b[0;34m)\u001b[0m\u001b[0;34m\u001b[0m\u001b[0;34m\u001b[0m\u001b[0m\n\u001b[0m\u001b[1;32m   2808\u001b[0m \u001b[0;34m\u001b[0m\u001b[0m\n\u001b[1;32m   2809\u001b[0m     \u001b[0;32mdef\u001b[0m \u001b[0mget_loc\u001b[0m\u001b[0;34m(\u001b[0m\u001b[0mself\u001b[0m\u001b[0;34m,\u001b[0m \u001b[0mkey\u001b[0m\u001b[0;34m,\u001b[0m \u001b[0mmethod\u001b[0m\u001b[0;34m=\u001b[0m\u001b[0;32mNone\u001b[0m\u001b[0;34m)\u001b[0m\u001b[0;34m:\u001b[0m\u001b[0;34m\u001b[0m\u001b[0;34m\u001b[0m\u001b[0m\n",
      "\u001b[0;32m~/opt/anaconda3/lib/python3.8/site-packages/pandas/core/indexes/base.py\u001b[0m in \u001b[0;36mget_loc\u001b[0;34m(self, key, method, tolerance)\u001b[0m\n\u001b[1;32m   3080\u001b[0m                 \u001b[0;32mreturn\u001b[0m \u001b[0mself\u001b[0m\u001b[0;34m.\u001b[0m\u001b[0m_engine\u001b[0m\u001b[0;34m.\u001b[0m\u001b[0mget_loc\u001b[0m\u001b[0;34m(\u001b[0m\u001b[0mcasted_key\u001b[0m\u001b[0;34m)\u001b[0m\u001b[0;34m\u001b[0m\u001b[0;34m\u001b[0m\u001b[0m\n\u001b[1;32m   3081\u001b[0m             \u001b[0;32mexcept\u001b[0m \u001b[0mKeyError\u001b[0m \u001b[0;32mas\u001b[0m \u001b[0merr\u001b[0m\u001b[0;34m:\u001b[0m\u001b[0;34m\u001b[0m\u001b[0;34m\u001b[0m\u001b[0m\n\u001b[0;32m-> 3082\u001b[0;31m                 \u001b[0;32mraise\u001b[0m \u001b[0mKeyError\u001b[0m\u001b[0;34m(\u001b[0m\u001b[0mkey\u001b[0m\u001b[0;34m)\u001b[0m \u001b[0;32mfrom\u001b[0m \u001b[0merr\u001b[0m\u001b[0;34m\u001b[0m\u001b[0;34m\u001b[0m\u001b[0m\n\u001b[0m\u001b[1;32m   3083\u001b[0m \u001b[0;34m\u001b[0m\u001b[0m\n\u001b[1;32m   3084\u001b[0m         \u001b[0;32mif\u001b[0m \u001b[0mtolerance\u001b[0m \u001b[0;32mis\u001b[0m \u001b[0;32mnot\u001b[0m \u001b[0;32mNone\u001b[0m\u001b[0;34m:\u001b[0m\u001b[0;34m\u001b[0m\u001b[0;34m\u001b[0m\u001b[0m\n",
      "\u001b[0;31mKeyError\u001b[0m: '0'"
     ]
    }
   ],
   "source": [
    "X_train_data[\"0\"]['time']"
   ]
  },
  {
   "cell_type": "code",
   "execution_count": 42,
   "metadata": {},
   "outputs": [
    {
     "data": {
      "text/html": [
       "<div>\n",
       "<style scoped>\n",
       "    .dataframe tbody tr th:only-of-type {\n",
       "        vertical-align: middle;\n",
       "    }\n",
       "\n",
       "    .dataframe tbody tr th {\n",
       "        vertical-align: top;\n",
       "    }\n",
       "\n",
       "    .dataframe thead th {\n",
       "        text-align: right;\n",
       "    }\n",
       "</style>\n",
       "<table border=\"1\" class=\"dataframe\">\n",
       "  <thead>\n",
       "    <tr style=\"text-align: right;\">\n",
       "      <th></th>\n",
       "      <th>max</th>\n",
       "      <th>min</th>\n",
       "      <th>mean</th>\n",
       "    </tr>\n",
       "    <tr>\n",
       "      <th>id</th>\n",
       "      <th></th>\n",
       "      <th></th>\n",
       "      <th></th>\n",
       "    </tr>\n",
       "  </thead>\n",
       "  <tbody>\n",
       "    <tr>\n",
       "      <th>0</th>\n",
       "      <td>1.344268</td>\n",
       "      <td>0.591940</td>\n",
       "      <td>0.931329</td>\n",
       "    </tr>\n",
       "    <tr>\n",
       "      <th>1</th>\n",
       "      <td>1.234020</td>\n",
       "      <td>-2.156208</td>\n",
       "      <td>-0.766580</td>\n",
       "    </tr>\n",
       "    <tr>\n",
       "      <th>2</th>\n",
       "      <td>1.219836</td>\n",
       "      <td>-1.142847</td>\n",
       "      <td>0.039836</td>\n",
       "    </tr>\n",
       "    <tr>\n",
       "      <th>3</th>\n",
       "      <td>-0.622250</td>\n",
       "      <td>-1.417751</td>\n",
       "      <td>-0.887702</td>\n",
       "    </tr>\n",
       "    <tr>\n",
       "      <th>4</th>\n",
       "      <td>0.599720</td>\n",
       "      <td>-2.429109</td>\n",
       "      <td>-0.659018</td>\n",
       "    </tr>\n",
       "    <tr>\n",
       "      <th>...</th>\n",
       "      <td>...</td>\n",
       "      <td>...</td>\n",
       "      <td>...</td>\n",
       "    </tr>\n",
       "    <tr>\n",
       "      <th>3120</th>\n",
       "      <td>0.390798</td>\n",
       "      <td>-1.624711</td>\n",
       "      <td>-0.300454</td>\n",
       "    </tr>\n",
       "    <tr>\n",
       "      <th>3121</th>\n",
       "      <td>-0.446650</td>\n",
       "      <td>-1.575455</td>\n",
       "      <td>-0.974298</td>\n",
       "    </tr>\n",
       "    <tr>\n",
       "      <th>3122</th>\n",
       "      <td>0.744666</td>\n",
       "      <td>-2.578974</td>\n",
       "      <td>-1.114246</td>\n",
       "    </tr>\n",
       "    <tr>\n",
       "      <th>3123</th>\n",
       "      <td>0.915846</td>\n",
       "      <td>-0.929133</td>\n",
       "      <td>-0.111333</td>\n",
       "    </tr>\n",
       "    <tr>\n",
       "      <th>3124</th>\n",
       "      <td>0.538809</td>\n",
       "      <td>-1.013813</td>\n",
       "      <td>-0.434048</td>\n",
       "    </tr>\n",
       "  </tbody>\n",
       "</table>\n",
       "<p>3125 rows × 3 columns</p>\n",
       "</div>"
      ],
      "text/plain": [
       "           max       min      mean\n",
       "id                                \n",
       "0     1.344268  0.591940  0.931329\n",
       "1     1.234020 -2.156208 -0.766580\n",
       "2     1.219836 -1.142847  0.039836\n",
       "3    -0.622250 -1.417751 -0.887702\n",
       "4     0.599720 -2.429109 -0.659018\n",
       "...        ...       ...       ...\n",
       "3120  0.390798 -1.624711 -0.300454\n",
       "3121 -0.446650 -1.575455 -0.974298\n",
       "3122  0.744666 -2.578974 -1.114246\n",
       "3123  0.915846 -0.929133 -0.111333\n",
       "3124  0.538809 -1.013813 -0.434048\n",
       "\n",
       "[3125 rows x 3 columns]"
      ]
     },
     "execution_count": 42,
     "metadata": {},
     "output_type": "execute_result"
    }
   ],
   "source": [
    "X_train_data[\"acc_x\"]"
   ]
  },
  {
   "cell_type": "code",
   "execution_count": null,
   "metadata": {},
   "outputs": [],
   "source": []
  },
  {
   "cell_type": "code",
   "execution_count": 7,
   "metadata": {
    "scrolled": true
   },
   "outputs": [
    {
     "data": {
      "text/plain": [
       "count    3125.000000\n",
       "mean       27.926720\n",
       "std        12.887405\n",
       "min         0.000000\n",
       "25%        26.000000\n",
       "50%        26.000000\n",
       "75%        30.000000\n",
       "max        60.000000\n",
       "Name: label, dtype: float64"
      ]
     },
     "execution_count": 7,
     "metadata": {},
     "output_type": "execute_result"
    }
   ],
   "source": [
    "train_label['label'].describe()"
   ]
  },
  {
   "cell_type": "code",
   "execution_count": 8,
   "metadata": {},
   "outputs": [],
   "source": [
    "y_train = train_label['label']"
   ]
  },
  {
   "cell_type": "code",
   "execution_count": 9,
   "metadata": {},
   "outputs": [
    {
     "data": {
      "text/plain": [
       "RandomForestClassifier(min_samples_leaf=30, n_jobs=-1, random_state=17)"
      ]
     },
     "execution_count": 9,
     "metadata": {},
     "output_type": "execute_result"
    }
   ],
   "source": [
    "from sklearn.ensemble import RandomForestClassifier\n",
    "\n",
    "rf = RandomForestClassifier(n_jobs=-1,random_state=17,min_samples_leaf=30)\n",
    "rf.fit(X_train_data,y_train)"
   ]
  },
  {
   "cell_type": "code",
   "execution_count": 10,
   "metadata": {},
   "outputs": [],
   "source": [
    "test_data = pd.read_csv(\"open/test_features.csv\")\n",
    "X_test = test_data[features].groupby(\"id\").agg([\"max\",\"min\",\"mean\"])"
   ]
  },
  {
   "cell_type": "code",
   "execution_count": 11,
   "metadata": {},
   "outputs": [
    {
     "data": {
      "text/plain": [
       "array([[0.        , 0.        , 0.00589269, ..., 0.09985829, 0.        ,\n",
       "        0.03085192],\n",
       "       [0.00613626, 0.0003125 , 0.00068182, ..., 0.00043478, 0.00021277,\n",
       "        0.00630973],\n",
       "       [0.00881051, 0.08482798, 0.0070715 , ..., 0.        , 0.01828152,\n",
       "        0.00765804],\n",
       "       ...,\n",
       "       [0.00569311, 0.        , 0.        , ..., 0.00033333, 0.00019608,\n",
       "        0.00481817],\n",
       "       [0.00030676, 0.00757453, 0.00661499, ..., 0.00040076, 0.00061224,\n",
       "        0.00273472],\n",
       "       [0.00314191, 0.        , 0.00027864, ..., 0.        , 0.        ,\n",
       "        0.0025006 ]])"
      ]
     },
     "execution_count": 11,
     "metadata": {},
     "output_type": "execute_result"
    }
   ],
   "source": [
    "y_pred = rf.predict_proba(X_test)\n",
    "y_pred"
   ]
  },
  {
   "cell_type": "code",
   "execution_count": null,
   "metadata": {},
   "outputs": [],
   "source": []
  },
  {
   "cell_type": "code",
   "execution_count": null,
   "metadata": {},
   "outputs": [],
   "source": []
  },
  {
   "cell_type": "code",
   "execution_count": 12,
   "metadata": {},
   "outputs": [],
   "source": [
    "# linear regression"
   ]
  },
  {
   "cell_type": "code",
   "execution_count": 13,
   "metadata": {},
   "outputs": [],
   "source": [
    "from sklearn.linear_model import LinearRegression"
   ]
  },
  {
   "cell_type": "code",
   "execution_count": 14,
   "metadata": {},
   "outputs": [
    {
     "data": {
      "text/plain": [
       "LinearRegression()"
      ]
     },
     "execution_count": 14,
     "metadata": {},
     "output_type": "execute_result"
    }
   ],
   "source": [
    "mlr = LinearRegression()\n",
    "mlr.fit(X_train_data,y_train)"
   ]
  },
  {
   "cell_type": "code",
   "execution_count": 15,
   "metadata": {},
   "outputs": [],
   "source": [
    "y_pred_mlr = mlr.predict(X_test)"
   ]
  },
  {
   "cell_type": "code",
   "execution_count": 16,
   "metadata": {},
   "outputs": [
    {
     "data": {
      "text/plain": [
       "array([29.06198159, 28.42152728, 31.190172  , 29.39607092, 22.37082219,\n",
       "       30.8909339 , 28.6043271 , 31.57052923, 32.297481  , 34.14474308,\n",
       "       31.70399472, 27.0824903 , 33.65453613, 29.29911305, 25.91813599,\n",
       "       29.63564781, 26.96716758, 29.79354525, 29.65504448, 27.58798708,\n",
       "       27.82036733, 27.99011778, 20.02326406, 24.42766838, 26.41711472,\n",
       "       27.09591161, 26.43993796, 28.76654972, 28.31130686, 25.36881873,\n",
       "       29.08648435, 27.87406039, 25.37127736, 30.90657783, 24.57542776,\n",
       "       29.74708526, 32.01924214, 26.88813972, 25.66711636, 25.19386767,\n",
       "       28.25389726, 28.46290079, 25.15709439, 28.25818153, 28.06617345,\n",
       "       30.13098518, 31.69561826, 26.0391122 , 30.00330303, 24.22330487,\n",
       "       28.05724468, 25.20813646, 32.22776849, 27.25459883, 33.63270611,\n",
       "       29.19520359, 24.80846553, 26.21085438, 26.09588143, 28.44809914,\n",
       "       26.5379947 , 20.770104  , 31.89459332, 25.84502741, 30.10537397,\n",
       "       29.87158387, 28.63572794, 28.54799507, 29.60837197, 24.56596363,\n",
       "       28.43755104, 26.20575173, 26.49844977, 25.60551712, 24.56550486,\n",
       "       27.74347439, 31.76205509, 26.35493054, 27.93252815, 35.09144242,\n",
       "       28.25095512, 32.46553522, 26.88413744, 25.89461022, 29.95918669,\n",
       "       36.83561379, 28.79185435, 30.54099159, 24.65049422, 27.92279703,\n",
       "       26.76546157, 25.80635762, 32.68051147, 29.62499449, 30.87705892,\n",
       "       29.81554004, 34.32056376, 26.95952978, 26.26872212, 24.25011774,\n",
       "       30.55362733, 26.69444103, 27.0548254 , 28.1251272 , 27.15017996,\n",
       "       30.08208206, 29.24084375, 29.26570842, 25.79001832, 29.82868153,\n",
       "       26.15733324, 33.17921388, 25.49608874, 25.46053458, 25.07796807,\n",
       "       28.08214848, 27.79395926, 27.04238742, 28.60509431, 32.90599759,\n",
       "       31.37292565, 30.07442975, 27.37855081, 28.64008634, 26.88164192,\n",
       "       26.52577189, 26.02608963, 29.87671614, 28.72212046, 32.06923938,\n",
       "       25.18174304, 26.88094202, 28.28767778, 30.99127874, 28.15204406,\n",
       "       26.1810067 , 22.91483857, 32.8786263 , 26.64508302, 25.44815908,\n",
       "       33.71503223, 27.07474338, 26.49522244, 24.73271801, 30.3176854 ,\n",
       "       23.54238338, 27.64662467, 31.08422273, 31.7701964 , 30.32524219,\n",
       "       29.83246207, 28.06854772, 28.88392524, 28.2582865 , 30.35857622,\n",
       "       28.00101444, 24.33866745, 29.48195675, 29.67984116, 26.8068125 ,\n",
       "       25.720598  , 26.92121842, 29.07379176, 28.5136526 , 33.21404519,\n",
       "       29.13572261, 33.36711916, 28.7461051 , 29.95234902, 29.44207236,\n",
       "       26.87720499, 26.30119079, 27.13641896, 32.64063516, 29.16049135,\n",
       "       24.71619633, 29.96106151, 26.45038805, 27.08628331, 25.44833717,\n",
       "       29.08935572, 27.98386611, 25.62678596, 35.13112272, 27.3943225 ,\n",
       "       27.68723557, 27.03176024, 28.59734277, 26.86912957, 32.99978424,\n",
       "       27.92794865, 32.00469259, 29.72286162, 23.58923591, 26.35606063,\n",
       "       19.20062767, 24.53786852, 27.73557836, 27.61892898, 24.57549229,\n",
       "       27.0166142 , 26.47892397, 32.96339359, 27.79791217, 28.14236691,\n",
       "       22.92302611, 30.16324306, 23.37038174, 31.17252335, 34.92018704,\n",
       "       27.24167791, 26.81970593, 27.06703847, 24.64450798, 27.95140781,\n",
       "       30.04833557, 26.67232318, 27.99120449, 28.4384247 , 28.73854029,\n",
       "       33.40396452, 27.14927566, 31.23863502, 33.55648992, 24.6090653 ,\n",
       "       26.92786906, 29.21426013, 26.87554612, 27.98938202, 31.89821022,\n",
       "       23.85230004, 27.50408359, 27.69632147, 27.4205441 , 26.80457199,\n",
       "       24.23014663, 30.10133703, 28.26700875, 27.09886746, 29.19823559,\n",
       "       25.61169952, 27.52145225, 27.93464162, 26.60721493, 27.89864957,\n",
       "       28.38335412, 25.57436994, 27.05245172, 29.07706301, 33.28160046,\n",
       "       30.83847978, 27.09223785, 28.74152919, 27.98187139, 25.69576502,\n",
       "       28.01268766, 28.37933885, 29.75982846, 29.47499902, 25.71916657,\n",
       "       33.33175286, 27.0930293 , 26.39338131, 27.95341242, 24.83547032,\n",
       "       27.33132421, 29.41346086, 33.50491306, 25.84129215, 16.63299069,\n",
       "       26.89270952, 24.9620018 , 28.92734285, 26.20154886, 35.6914367 ,\n",
       "       28.03050422, 22.18702094, 32.11155669, 24.01086484, 27.12431171,\n",
       "       30.7544445 , 23.53921593, 25.62759757, 28.23362114, 26.24114256,\n",
       "       25.26916998, 29.08902547, 24.06145634, 30.22645292, 28.0606351 ,\n",
       "       28.66226147, 28.95129325, 25.16061826, 29.91487301, 21.10328007,\n",
       "       26.36011461, 24.99623033, 28.59864682, 33.25041784, 26.05640441,\n",
       "       25.91547028, 32.26123599, 28.4593965 , 30.46587456, 26.33725544,\n",
       "       28.60269171, 26.53783407, 28.39776921, 27.79006596, 27.83991496,\n",
       "       25.00926758, 35.00864925, 23.70977894, 28.24712768, 25.56962105,\n",
       "       25.62021681, 33.11392322, 28.22794299, 28.75256704, 28.72181149,\n",
       "       25.04401777, 24.3218521 , 28.73204867, 31.63001648, 26.50425584,\n",
       "       29.68438581, 30.66590434, 27.52281248, 29.94219468, 26.48950682,\n",
       "       27.3530097 , 28.97563755, 26.11501157, 35.14444464, 27.91146667,\n",
       "       28.85358074, 27.5919447 , 33.75133639, 27.05215689, 29.70008667,\n",
       "       26.83517909, 23.9380254 , 27.77315648, 27.45271712, 27.47558222,\n",
       "       31.49597609, 26.90684913, 33.02833823, 35.11174744, 26.53406845,\n",
       "       30.16468571, 34.32766114, 26.88107885, 28.81363433, 25.73102552,\n",
       "       28.80533373, 26.12426909, 30.55044674, 29.14387022, 27.55688569,\n",
       "       25.1593339 , 29.90226147, 27.49132823, 26.64663687, 28.00945683,\n",
       "       30.64406752, 27.49498807, 26.2521154 , 27.96921609, 34.01221823,\n",
       "       30.10506025, 34.27615031, 24.81770884, 27.2143067 , 27.01181841,\n",
       "       28.43309383, 27.05357235, 30.91627965, 35.27967149, 26.01521178,\n",
       "       26.26851456, 26.01632633, 31.79186909, 27.91847152, 30.99021722,\n",
       "       26.59410406, 32.1994718 , 27.29535104, 26.98362554, 32.69583843,\n",
       "       29.97299598, 28.0935688 , 29.73704387, 26.95710616, 25.17708964,\n",
       "       29.98647104, 29.05840081, 33.27489806, 26.00002929, 24.25331394,\n",
       "       33.60506905, 25.96713925, 27.56802843, 27.36432591, 27.48985196,\n",
       "       25.63602501, 25.37081069, 26.00217713, 23.35911536, 22.10907716,\n",
       "       27.13831827, 30.47667511, 29.22960395, 26.51049946, 27.66755776,\n",
       "       28.85280565, 28.01733333, 25.8206152 , 29.77239155, 28.36839778,\n",
       "       33.8792872 , 27.86727615, 28.1328219 , 22.42702071, 30.99019808,\n",
       "       32.33014814, 32.27806625, 24.19308046, 33.01138378, 26.53118601,\n",
       "       32.13625797, 26.32905106, 27.53110281, 30.31648915, 27.14774919,\n",
       "       24.60906001, 25.87686459, 29.38214716, 29.53699263, 28.9584387 ,\n",
       "       26.78721078, 28.13955714,  7.56215272, 27.76562165, 24.87261312,\n",
       "       22.44793238, 34.47696905, 28.40810533, 28.99380003, 27.37386782,\n",
       "       25.21390018, 26.13326864, 22.42341559, 28.91354302, 27.14696703,\n",
       "       28.7927814 , 25.91012158, 32.85817319, 32.392981  , 29.01971893,\n",
       "       31.12928566, 30.12741638, 27.11637618, 27.88947411, 26.65771246,\n",
       "       30.78344298, 27.28652632, 33.59014538, 25.98614345, 29.50138375,\n",
       "       27.58611388, 25.63548547, 27.63505829, 28.09999696, 24.28014706,\n",
       "       26.16580503, 26.77508531, 26.02932982, 26.82537607, 34.87077773,\n",
       "       30.94506656, 29.71883072, 28.4883571 , 31.4608042 , 26.37731728,\n",
       "       29.89559316, 32.97043161, 35.2657042 , 26.8915382 , 21.54041157,\n",
       "       22.23974283, 29.1022065 , 28.85251359, 29.10637938, 26.79320369,\n",
       "       28.47038148, 28.31574874, 26.07517705, 27.0013103 , 29.00129305,\n",
       "       25.96571255, 27.87981616, 27.50471825, 28.42143749, 25.09182038,\n",
       "       24.91686627, 31.79431132, 27.40761941, 28.62153035, 28.08139114,\n",
       "       27.1104682 , 32.00879403, 32.09261535, 29.31986041, 29.7148629 ,\n",
       "       28.35901702, 31.38001144, 26.38207486, 26.1044197 , 28.01982147,\n",
       "       34.80653209, 26.22013573, 26.36447243, 22.94499953, 30.72851855,\n",
       "       28.03843857, 28.06647713, 26.82173499, 32.0762283 , 28.92324808,\n",
       "       33.32780623, 29.8571634 , 19.19689965, 33.96508969, 24.17428678,\n",
       "       27.05032458, 33.19155374, 23.7395584 , 30.20143465, 26.04058917,\n",
       "       26.65469118, 24.71847743, 25.20386911, 21.87394677, 29.7171876 ,\n",
       "       24.48444641, 27.79939809, 29.22347437, 28.70691153, 27.71117077,\n",
       "       26.05603042, 29.93889328, 28.23174047, 28.40589257, 22.30919602,\n",
       "       32.08428255, 31.86782556, 26.15613359, 17.39826438, 26.27761374,\n",
       "       26.10362856, 28.17961616, 26.77123602, 29.11967187, 18.43748296,\n",
       "       29.4912722 , 25.52017818, 27.52381768, 34.75157455, 25.8609444 ,\n",
       "       25.12240024, 22.86984268, 26.48507462, 26.15617894, 27.4704928 ,\n",
       "       27.62584883, 27.72794559, 25.55464799, 28.81157045, 27.91590663,\n",
       "       26.28162939, 26.69255446, 31.41692555, 24.71790487, 31.39489454,\n",
       "       26.88421535, 28.25966128, 28.84769301, 25.53032572, 29.90470572,\n",
       "       26.48634815, 26.06881125, 25.48331957, 29.87258389, 32.550878  ,\n",
       "       24.42079196, 27.09049847, 26.05227604, 27.6530051 , 25.13025145,\n",
       "       27.3593197 , 30.26604311, 28.12182293, 28.92802021, 24.70697663,\n",
       "       24.31875107, 27.12336274, 33.84208098, 31.59730342, 25.30751936,\n",
       "       27.25169265, 28.85004346, 26.96375453, 28.93321612, 27.30555364,\n",
       "       34.4913657 , 26.87930041, 28.81112331, 26.75353878, 32.0698131 ,\n",
       "       33.11006819, 28.24462039, 27.62237353, 34.08250738, 33.64637298,\n",
       "       25.34827122, 25.62871572, 28.33794268, 28.12867063, 28.82401696,\n",
       "       26.68396602, 26.30946957, 28.15613024, 22.94299074, 28.56882   ,\n",
       "       20.91624643, 26.81995712, 32.48070013, 27.91848805, 28.12843135,\n",
       "       28.74881596, 22.78028817, 29.4160474 , 24.73247651, 24.68808168,\n",
       "       27.89742126, 29.91740731, 29.9426375 , 25.30919773, 27.85287561,\n",
       "       30.14521378, 28.09038336, 33.71384722, 29.69317424, 28.53499429,\n",
       "       33.84391612, 22.80035866, 15.54636437, 26.69152273, 26.50542266,\n",
       "       29.31066982, 26.56275864, 30.07500833, 30.97266193, 28.03772103,\n",
       "       30.90401324, 27.7054505 , 25.97357879, 26.78385573, 31.28714282,\n",
       "       24.77854796, 30.71070997, 27.28705657, 28.44358955, 32.08616372,\n",
       "       27.17825823, 24.08610284, 23.93154898, 28.53507741, 26.01869373,\n",
       "       27.5095471 , 27.69680174, 29.00486391, 30.20699712, 31.81394294,\n",
       "       29.83097537, 27.35286583, 29.97550782, 27.40731051, 27.78654411,\n",
       "       27.94679448, 27.63102165, 28.79346254, 25.52353019, 29.05276703,\n",
       "       27.95416324, 26.51565209, 31.87419369, 28.97654837, 25.16310054,\n",
       "       35.88757233, 25.45835412, 28.06650056, 20.98053573, 33.76530954,\n",
       "       26.00081666, 29.04063164, 28.00930184, 29.83598547, 29.39884995,\n",
       "       28.8582757 , 25.17895054, 25.09843359, 26.37963511, 28.0281656 ,\n",
       "       26.84374457, 31.23263291, 27.50995596, 26.4734977 , 33.55925144,\n",
       "       26.98492655, 30.99044834, 26.99076061, 27.96177213, 26.59809865,\n",
       "       28.160506  , 27.52908275, 26.34979353, 29.4199612 , 34.19920551,\n",
       "       26.49482525, 21.73884733, 27.72911258, 25.27712758, 27.30235731,\n",
       "       34.41860022, 27.74929833, 27.45348879, 26.60562752, 26.31888371,\n",
       "       28.72707316, 28.26383578, 27.26588899, 28.38769452, 27.68742459,\n",
       "       27.52763397, 27.84170087, 32.61625033, 25.70312552, 28.57591384,\n",
       "       26.37962477, 34.05411656, 22.80681262, 30.45068962, 25.21317585,\n",
       "       28.88031523, 28.68974057, 28.69736409, 31.48096041, 28.64687627,\n",
       "       27.20831887, 24.87280928, 27.90688736, 27.59301876, 24.8610946 ,\n",
       "       26.15041908, 30.24078834, 28.81782358, 33.94974599, 31.03418957,\n",
       "       28.37058771, 35.37326895, 29.39275049, 26.79506569, 25.12586306,\n",
       "       31.04333424, 31.37757929, 20.76843093, 24.00996637, 25.46230617,\n",
       "       34.15465612, 25.85875616])"
      ]
     },
     "execution_count": 16,
     "metadata": {},
     "output_type": "execute_result"
    }
   ],
   "source": [
    "y_pred_mlr"
   ]
  },
  {
   "cell_type": "code",
   "execution_count": 17,
   "metadata": {},
   "outputs": [
    {
     "data": {
      "text/plain": [
       "0.056084308993180065"
      ]
     },
     "execution_count": 17,
     "metadata": {},
     "output_type": "execute_result"
    }
   ],
   "source": [
    "mlr.score(X_train_data,y_train)"
   ]
  },
  {
   "cell_type": "code",
   "execution_count": null,
   "metadata": {},
   "outputs": [],
   "source": []
  },
  {
   "cell_type": "code",
   "execution_count": null,
   "metadata": {},
   "outputs": [],
   "source": []
  },
  {
   "cell_type": "code",
   "execution_count": 18,
   "metadata": {},
   "outputs": [],
   "source": [
    "#tensorflow"
   ]
  },
  {
   "cell_type": "code",
   "execution_count": 19,
   "metadata": {},
   "outputs": [],
   "source": [
    "import tensorflow as tf\n",
    "import numpy as np\n",
    "from keras.models import Sequential\n",
    "from keras.layers import Dense, LSTM"
   ]
  },
  {
   "cell_type": "code",
   "execution_count": 20,
   "metadata": {},
   "outputs": [
    {
     "data": {
      "text/plain": [
       "TensorShape([3125, 600, 6])"
      ]
     },
     "execution_count": 20,
     "metadata": {},
     "output_type": "execute_result"
    }
   ],
   "source": [
    "X=tf.reshape(np.array(train_data.iloc[:,2:]),[-1, 600, 6])\n",
    "X.shape"
   ]
  },
  {
   "cell_type": "code",
   "execution_count": 21,
   "metadata": {},
   "outputs": [
    {
     "data": {
      "text/plain": [
       "(3125, 61)"
      ]
     },
     "execution_count": 21,
     "metadata": {},
     "output_type": "execute_result"
    }
   ],
   "source": [
    "y = tf.keras.utils.to_categorical(train_label['label']) \n",
    "y.shape"
   ]
  },
  {
   "cell_type": "code",
   "execution_count": 22,
   "metadata": {},
   "outputs": [],
   "source": [
    "model = Sequential()\n",
    "model.add(LSTM(32, input_shape=(600,6)))\n",
    "model.add(Dense(128, activation='relu'))\n",
    "model.add(Dense(61, activation='softmax'))\n",
    "\n",
    "model.compile(optimizer='rmsprop', loss='categorical_crossentropy', metrics=['accuracy'])"
   ]
  },
  {
   "cell_type": "code",
   "execution_count": 81,
   "metadata": {},
   "outputs": [
    {
     "name": "stdout",
     "output_type": "stream",
     "text": [
      "Epoch 1/30\n",
      "20/20 [==============================] - 7s 242ms/step - loss: 3.9264 - accuracy: 0.1971 - val_loss: 3.3105 - val_accuracy: 0.4976\n",
      "Epoch 2/30\n",
      "20/20 [==============================] - 4s 226ms/step - loss: 3.1228 - accuracy: 0.4865 - val_loss: 2.7732 - val_accuracy: 0.4976\n",
      "Epoch 3/30\n",
      "20/20 [==============================] - 5s 242ms/step - loss: 2.7708 - accuracy: 0.4732 - val_loss: 2.6965 - val_accuracy: 0.4976\n",
      "Epoch 4/30\n",
      "20/20 [==============================] - 4s 214ms/step - loss: 2.7087 - accuracy: 0.4748 - val_loss: 2.6691 - val_accuracy: 0.4976\n",
      "Epoch 5/30\n",
      "20/20 [==============================] - 4s 206ms/step - loss: 2.6558 - accuracy: 0.4768 - val_loss: 2.6432 - val_accuracy: 0.4976\n",
      "Epoch 6/30\n",
      "20/20 [==============================] - 5s 233ms/step - loss: 2.5488 - accuracy: 0.4925 - val_loss: 2.6171 - val_accuracy: 0.4976\n",
      "Epoch 7/30\n",
      "20/20 [==============================] - 4s 219ms/step - loss: 2.5549 - accuracy: 0.4796 - val_loss: 2.5876 - val_accuracy: 0.4976\n",
      "Epoch 8/30\n",
      "20/20 [==============================] - 4s 223ms/step - loss: 2.4701 - accuracy: 0.4885 - val_loss: 2.5467 - val_accuracy: 0.4976\n",
      "Epoch 9/30\n",
      "20/20 [==============================] - 5s 253ms/step - loss: 2.4954 - accuracy: 0.4713 - val_loss: 2.5163 - val_accuracy: 0.4992\n",
      "Epoch 10/30\n",
      "20/20 [==============================] - 5s 239ms/step - loss: 2.4183 - accuracy: 0.4820 - val_loss: 2.4857 - val_accuracy: 0.5056\n",
      "Epoch 11/30\n",
      "20/20 [==============================] - 5s 240ms/step - loss: 2.3365 - accuracy: 0.4981 - val_loss: 2.4626 - val_accuracy: 0.5136\n",
      "Epoch 12/30\n",
      "20/20 [==============================] - 5s 235ms/step - loss: 2.2999 - accuracy: 0.4980 - val_loss: 2.4449 - val_accuracy: 0.5216\n",
      "Epoch 13/30\n",
      "20/20 [==============================] - 4s 226ms/step - loss: 2.2879 - accuracy: 0.4952 - val_loss: 2.4361 - val_accuracy: 0.5184\n",
      "Epoch 14/30\n",
      "20/20 [==============================] - 5s 252ms/step - loss: 2.2879 - accuracy: 0.4888 - val_loss: 2.4137 - val_accuracy: 0.5248\n",
      "Epoch 15/30\n",
      "20/20 [==============================] - 7s 342ms/step - loss: 2.2554 - accuracy: 0.4922 - val_loss: 2.4049 - val_accuracy: 0.5216\n",
      "Epoch 16/30\n",
      "20/20 [==============================] - 7s 358ms/step - loss: 2.2430 - accuracy: 0.4902 - val_loss: 2.3955 - val_accuracy: 0.5184\n",
      "Epoch 17/30\n",
      "20/20 [==============================] - 5s 263ms/step - loss: 2.1606 - accuracy: 0.5031 - val_loss: 2.3792 - val_accuracy: 0.5168\n",
      "Epoch 18/30\n",
      "20/20 [==============================] - 5s 239ms/step - loss: 2.1281 - accuracy: 0.5051 - val_loss: 2.3757 - val_accuracy: 0.5168\n",
      "Epoch 19/30\n",
      "20/20 [==============================] - 5s 226ms/step - loss: 2.1018 - accuracy: 0.5154 - val_loss: 2.3699 - val_accuracy: 0.5184\n",
      "Epoch 20/30\n",
      "20/20 [==============================] - 5s 245ms/step - loss: 2.0062 - accuracy: 0.5356 - val_loss: 2.3686 - val_accuracy: 0.5120\n",
      "Epoch 21/30\n",
      "20/20 [==============================] - 5s 254ms/step - loss: 2.0752 - accuracy: 0.5076 - val_loss: 2.3545 - val_accuracy: 0.5184\n",
      "Epoch 22/30\n",
      "20/20 [==============================] - 5s 260ms/step - loss: 2.0300 - accuracy: 0.5114 - val_loss: 2.3620 - val_accuracy: 0.5072\n",
      "Epoch 23/30\n",
      "20/20 [==============================] - 5s 238ms/step - loss: 2.0048 - accuracy: 0.5219 - val_loss: 2.3544 - val_accuracy: 0.5136\n",
      "Epoch 24/30\n",
      "20/20 [==============================] - 4s 226ms/step - loss: 1.9753 - accuracy: 0.5202 - val_loss: 2.3527 - val_accuracy: 0.5152\n",
      "Epoch 25/30\n",
      "20/20 [==============================] - 4s 221ms/step - loss: 1.9538 - accuracy: 0.5279 - val_loss: 2.3485 - val_accuracy: 0.5168\n",
      "Epoch 26/30\n",
      "20/20 [==============================] - 4s 219ms/step - loss: 1.9452 - accuracy: 0.5217 - val_loss: 2.3455 - val_accuracy: 0.5104\n",
      "Epoch 27/30\n",
      "20/20 [==============================] - 5s 248ms/step - loss: 1.9695 - accuracy: 0.5203 - val_loss: 2.3397 - val_accuracy: 0.5184\n",
      "Epoch 28/30\n",
      "20/20 [==============================] - 5s 256ms/step - loss: 1.9071 - accuracy: 0.5327 - val_loss: 2.3446 - val_accuracy: 0.5072\n",
      "Epoch 29/30\n",
      "20/20 [==============================] - 5s 248ms/step - loss: 1.8855 - accuracy: 0.5387 - val_loss: 2.3400 - val_accuracy: 0.5104\n",
      "Epoch 30/30\n",
      "20/20 [==============================] - 4s 206ms/step - loss: 1.8832 - accuracy: 0.5254 - val_loss: 2.3533 - val_accuracy: 0.5104\n"
     ]
    },
    {
     "data": {
      "text/plain": [
       "<tensorflow.python.keras.callbacks.History at 0x7ffe6efe8460>"
      ]
     },
     "execution_count": 81,
     "metadata": {},
     "output_type": "execute_result"
    }
   ],
   "source": [
    "model.fit(X,y, epochs=30, batch_size=128, validation_split=0.2)"
   ]
  },
  {
   "cell_type": "code",
   "execution_count": 82,
   "metadata": {},
   "outputs": [],
   "source": [
    "test_X_keras=tf.reshape(np.array(test_data.iloc[:,2:]),[-1, 600, 6])\n",
    "test_X_keras.shape\n",
    "\n",
    "prediction=model.predict(test_X_keras)"
   ]
  },
  {
   "cell_type": "code",
   "execution_count": 85,
   "metadata": {},
   "outputs": [
    {
     "name": "stdout",
     "output_type": "stream",
     "text": [
      "98/98 - 3s - loss: 1.9575 - accuracy: 0.5277\n",
      "\n",
      "테스트 정확도: 0.527679979801178\n"
     ]
    }
   ],
   "source": [
    "test_loss, test_acc = model.evaluate(X,  y, verbose=2)\n",
    "print('\\n테스트 정확도:', test_acc)"
   ]
  },
  {
   "cell_type": "code",
   "execution_count": null,
   "metadata": {},
   "outputs": [],
   "source": []
  },
  {
   "cell_type": "code",
   "execution_count": null,
   "metadata": {},
   "outputs": [],
   "source": []
  },
  {
   "cell_type": "code",
   "execution_count": null,
   "metadata": {},
   "outputs": [],
   "source": []
  }
 ],
 "metadata": {
  "kernelspec": {
   "display_name": "Python 3",
   "language": "python",
   "name": "python3"
  },
  "language_info": {
   "codemirror_mode": {
    "name": "ipython",
    "version": 3
   },
   "file_extension": ".py",
   "mimetype": "text/x-python",
   "name": "python",
   "nbconvert_exporter": "python",
   "pygments_lexer": "ipython3",
   "version": "3.8.3"
  }
 },
 "nbformat": 4,
 "nbformat_minor": 4
}
